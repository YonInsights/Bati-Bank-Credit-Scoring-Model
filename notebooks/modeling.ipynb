{
 "cells": [
  {
   "cell_type": "code",
   "execution_count": 17,
   "metadata": {},
   "outputs": [],
   "source": [
    "import os\n",
    "import sys\n",
    "# Add the scripts folder to the Python path\n",
    "sys.path.append(os.path.abspath(\"../src\"))"
   ]
  },
  {
   "cell_type": "code",
   "execution_count": 57,
   "metadata": {},
   "outputs": [],
   "source": [
    "# Import functions from the model_training script\n",
    "from model_training import preprocess_target_column, split_data, train_logistic_regression, train_random_forest, evaluate_model\n",
    "from feature_selection import select_relevant_features\n",
    "import pandas as pd\n",
    "from imblearn.over_sampling import SMOTE\n",
    "from sklearn.ensemble import RandomForestClassifier\n",
    "from sklearn.model_selection import GridSearchCV\n",
    "from sklearn.metrics import confusion_matrix\n",
    "\n"
   ]
  },
  {
   "cell_type": "code",
   "execution_count": 19,
   "metadata": {},
   "outputs": [],
   "source": [
    "#Load the processed data\n",
    "processed_data_path = \"D:/Kifya_training/Week 6/Bati-Bank-Credit-Scoring-Model/data/processed/processed_data.csv\"\n",
    "df = pd.read_csv(processed_data_path)"
   ]
  },
  {
   "cell_type": "code",
   "execution_count": 38,
   "metadata": {},
   "outputs": [],
   "source": [
    "# Define the target column\n",
    "target_column = \"FraudResult\""
   ]
  },
  {
   "cell_type": "code",
   "execution_count": 39,
   "metadata": {},
   "outputs": [
    {
     "name": "stdout",
     "output_type": "stream",
     "text": [
      "Selected Relevant Features: ['Amount', 'Value', 'TotalTransactionAmount', 'AverageTransactionAmount']\n"
     ]
    }
   ],
   "source": [
    "# Select relevant features based on correlation\n",
    "relevant_features = select_relevant_features(df, target_column=target_column, correlation_threshold=0.05)\n",
    "print(\"Selected Relevant Features:\", relevant_features)"
   ]
  },
  {
   "cell_type": "code",
   "execution_count": 40,
   "metadata": {},
   "outputs": [],
   "source": [
    "# Filter the dataset to include only relevant features and the target column\n",
    "df = df[relevant_features + [target_column]]"
   ]
  },
  {
   "cell_type": "code",
   "execution_count": 41,
   "metadata": {},
   "outputs": [],
   "source": [
    "# Split the data\n",
    "X_train, X_test, y_train, y_test = split_data(df, target_column)"
   ]
  },
  {
   "cell_type": "code",
   "execution_count": 42,
   "metadata": {},
   "outputs": [
    {
     "name": "stdout",
     "output_type": "stream",
     "text": [
      "Logistic Regression Model Trained.\n"
     ]
    }
   ],
   "source": [
    "# Train Logistic Regression\n",
    "log_model = train_logistic_regression(X_train, y_train)\n",
    "print(\"Logistic Regression Model Trained.\")\n"
   ]
  },
  {
   "cell_type": "code",
   "execution_count": 43,
   "metadata": {},
   "outputs": [
    {
     "name": "stdout",
     "output_type": "stream",
     "text": [
      "Random Forest Model Trained.\n"
     ]
    }
   ],
   "source": [
    "# Train Random Forest\n",
    "rf_model = train_random_forest(X_train, y_train)\n",
    "print(\"Random Forest Model Trained.\")"
   ]
  },
  {
   "cell_type": "code",
   "execution_count": 44,
   "metadata": {},
   "outputs": [
    {
     "name": "stdout",
     "output_type": "stream",
     "text": [
      "Logistic Regression Metrics:\n",
      "accuracy: 1.0000\n",
      "precision: 1.0000\n",
      "recall: 1.0000\n",
      "f1_score: 1.0000\n",
      "roc_auc: 1.0000\n"
     ]
    }
   ],
   "source": [
    "# Evaluate Logistic Regression\n",
    "log_metrics = evaluate_model(log_model, X_test, y_test)\n",
    "print(\"Logistic Regression Metrics:\")\n",
    "for metric, value in log_metrics.items():\n",
    "    print(f\"{metric}: {value:.4f}\")\n"
   ]
  },
  {
   "cell_type": "code",
   "execution_count": 45,
   "metadata": {},
   "outputs": [
    {
     "name": "stdout",
     "output_type": "stream",
     "text": [
      "\n",
      "Random Forest Metrics:\n",
      "accuracy: 1.0000\n",
      "precision: 1.0000\n",
      "recall: 1.0000\n",
      "f1_score: 1.0000\n",
      "roc_auc: 1.0000\n"
     ]
    }
   ],
   "source": [
    "# Evaluate Random Forest\n",
    "rf_metrics = evaluate_model(rf_model, X_test, y_test)\n",
    "print(\"\\nRandom Forest Metrics:\")\n",
    "for metric, value in rf_metrics.items():\n",
    "    print(f\"{metric}: {value:.4f}\")"
   ]
  },
  {
   "cell_type": "code",
   "execution_count": 46,
   "metadata": {},
   "outputs": [
    {
     "name": "stdout",
     "output_type": "stream",
     "text": [
      "Feature: Amount, Correlation with Target: 0.5574\n",
      "Feature: Value, Correlation with Target: 0.5667\n",
      "Feature: TotalTransactionAmount, Correlation with Target: 0.0635\n",
      "Feature: AverageTransactionAmount, Correlation with Target: 0.3390\n"
     ]
    }
   ],
   "source": [
    "# Verify the correlation of selected features with the target\n",
    "for feature in relevant_features:\n",
    "    correlation = df[[feature, target_column]].corr().iloc[0, 1]\n",
    "    print(f\"Feature: {feature}, Correlation with Target: {correlation:.4f}\")\n"
   ]
  },
  {
   "cell_type": "code",
   "execution_count": 47,
   "metadata": {},
   "outputs": [
    {
     "name": "stdout",
     "output_type": "stream",
     "text": [
      "Feature: Amount, Overlap: 475 values\n",
      "Feature: Value, Overlap: 463 values\n",
      "Feature: TotalTransactionAmount, Overlap: 1643 values\n",
      "Feature: AverageTransactionAmount, Overlap: 1797 values\n"
     ]
    }
   ],
   "source": [
    "# Check for overlap in feature values\n",
    "for feature in relevant_features:\n",
    "    overlap = set(X_train[feature]).intersection(set(X_test[feature]))\n",
    "    print(f\"Feature: {feature}, Overlap: {len(overlap)} values\")\n"
   ]
  },
  {
   "cell_type": "code",
   "execution_count": 48,
   "metadata": {},
   "outputs": [
    {
     "name": "stdout",
     "output_type": "stream",
     "text": [
      "Confusion Matrix for Logistic Regression:\n",
      "[[19097     0]\n",
      " [    0    36]]\n",
      "\n",
      "Confusion Matrix for Random Forest:\n",
      "[[19097     0]\n",
      " [    0    36]]\n"
     ]
    }
   ],
   "source": [
    "\n",
    "# Compute the confusion matrix for Logistic Regression\n",
    "log_y_pred = log_model.predict(X_test)\n",
    "print(\"Confusion Matrix for Logistic Regression:\")\n",
    "print(confusion_matrix(y_test, log_y_pred))\n",
    "\n",
    "# Compute the confusion matrix for Random Forest\n",
    "rf_y_pred = rf_model.predict(X_test)\n",
    "print(\"\\nConfusion Matrix for Random Forest:\")\n",
    "print(confusion_matrix(y_test, rf_y_pred))\n"
   ]
  },
  {
   "cell_type": "code",
   "execution_count": 49,
   "metadata": {},
   "outputs": [],
   "source": [
    "# Remove highly correlated features\n",
    "filtered_features = [\"TotalTransactionAmount\", \"AverageTransactionAmount\"]  # Retain less correlated features\n",
    "X_train = X_train[filtered_features]\n",
    "X_test = X_test[filtered_features]\n"
   ]
  },
  {
   "cell_type": "code",
   "execution_count": 50,
   "metadata": {},
   "outputs": [
    {
     "name": "stdout",
     "output_type": "stream",
     "text": [
      "Logistic Regression Metrics after feature refinement: {'accuracy': 0.9983274969947211, 'precision': 1.0, 'recall': 0.1111111111111111, 'f1_score': 0.2, 'roc_auc': np.float64(0.9938959289708098)}\n",
      "Random Forest Metrics after feature refinement: {'accuracy': 0.9981706998379762, 'precision': 0.5333333333333333, 'recall': 0.2222222222222222, 'f1_score': 0.3137254901960784, 'roc_auc': np.float64(0.9684512692511331)}\n"
     ]
    }
   ],
   "source": [
    "# Re-train Logistic Regression\n",
    "log_model = train_logistic_regression(X_train, y_train)\n",
    "log_metrics = evaluate_model(log_model, X_test, y_test)\n",
    "print(\"Logistic Regression Metrics after feature refinement:\", log_metrics)\n",
    "\n",
    "# Re-train Random Forest\n",
    "rf_model = train_random_forest(X_train, y_train)\n",
    "rf_metrics = evaluate_model(rf_model, X_test, y_test)\n",
    "print(\"Random Forest Metrics after feature refinement:\", rf_metrics)\n"
   ]
  },
  {
   "cell_type": "code",
   "execution_count": null,
   "metadata": {},
   "outputs": [
    {
     "name": "stdout",
     "output_type": "stream",
     "text": [
      "After SMOTE - Class Distribution:\n",
      "FraudResult\n",
      "0    76372\n",
      "1    76372\n",
      "Name: count, dtype: int64\n"
     ]
    }
   ],
   "source": [
    "# Apply SMOTE to balance the training dataset\n",
    "smote = SMOTE(random_state=42)\n",
    "X_train_balanced, y_train_balanced = smote.fit_resample(X_train, y_train)\n",
    "\n",
    "print(\"After SMOTE - Class Distribution:\")\n",
    "print(pd.Series(y_train_balanced).value_counts())\n"
   ]
  },
  {
   "cell_type": "code",
   "execution_count": null,
   "metadata": {},
   "outputs": [
    {
     "name": "stdout",
     "output_type": "stream",
     "text": [
      "Fitting 3 folds for each of 81 candidates, totalling 243 fits\n",
      "Best Parameters: {'max_depth': None, 'min_samples_leaf': 1, 'min_samples_split': 2, 'n_estimators': 50}\n",
      "Tuned Random Forest Metrics: {'accuracy': 0.9881356818063033, 'precision': 0.12549019607843137, 'recall': 0.8888888888888888, 'f1_score': 0.21993127147766323, 'roc_auc': np.float64(0.9685530886177585)}\n"
     ]
    }
   ],
   "source": [
    "\n",
    "\n",
    "# Define parameter grid\n",
    "param_grid = {\n",
    "    \"n_estimators\": [50, 100, 200],\n",
    "    \"max_depth\": [None, 10, 20],\n",
    "    \"min_samples_split\": [2, 5, 10],\n",
    "    \"min_samples_leaf\": [1, 2, 4],\n",
    "}\n",
    "\n",
    "# Perform grid search\n",
    "grid_search = GridSearchCV(\n",
    "    RandomForestClassifier(random_state=42, class_weight=\"balanced\"),\n",
    "    param_grid,\n",
    "    scoring=\"f1\",\n",
    "    cv=3,\n",
    "    verbose=2,\n",
    "    n_jobs=-1,\n",
    ")\n",
    "grid_search.fit(X_train_balanced, y_train_balanced)\n",
    "\n",
    "# Best parameters\n",
    "print(\"Best Parameters:\", grid_search.best_params_)\n",
    "\n",
    "# Evaluate the best model\n",
    "best_rf_model = grid_search.best_estimator_\n",
    "rf_metrics = evaluate_model(best_rf_model, X_test, y_test)\n",
    "print(\"Tuned Random Forest Metrics:\", rf_metrics)\n"
   ]
  }
 ],
 "metadata": {
  "kernelspec": {
   "display_name": "venv",
   "language": "python",
   "name": "python3"
  },
  "language_info": {
   "codemirror_mode": {
    "name": "ipython",
    "version": 3
   },
   "file_extension": ".py",
   "mimetype": "text/x-python",
   "name": "python",
   "nbconvert_exporter": "python",
   "pygments_lexer": "ipython3",
   "version": "3.12.8"
  }
 },
 "nbformat": 4,
 "nbformat_minor": 2
}
