{
 "cells": [
  {
   "cell_type": "code",
   "execution_count": 1,
   "metadata": {},
   "outputs": [],
   "source": [
    "import os\n",
    "import sys\n",
    "# Add the scripts folder to the Python path\n",
    "sys.path.append(os.path.abspath(\"../src\"))"
   ]
  },
  {
   "cell_type": "code",
   "execution_count": 2,
   "metadata": {},
   "outputs": [],
   "source": [
    "# Import functions from the model_training script\n",
    "from model_training import preprocess_target_column, split_data, train_logistic_regression, train_random_forest, evaluate_model\n",
    "import pandas as pd"
   ]
  },
  {
   "cell_type": "code",
   "execution_count": 3,
   "metadata": {},
   "outputs": [],
   "source": [
    "#Load the processed data\n",
    "processed_data_path = \"D:/Kifya_training/Week 6/Bati-Bank-Credit-Scoring-Model/data/processed/processed_data.csv\"\n",
    "df = pd.read_csv(processed_data_path)"
   ]
  },
  {
   "cell_type": "code",
   "execution_count": 4,
   "metadata": {},
   "outputs": [],
   "source": [
    "# Preprocess the target column\n",
    "df = preprocess_target_column(df, \"FraudResult\")"
   ]
  },
  {
   "cell_type": "code",
   "execution_count": 5,
   "metadata": {},
   "outputs": [
    {
     "name": "stdout",
     "output_type": "stream",
     "text": [
      "Unique values in target column (FraudResult) after preprocessing:\n",
      "[0 1]\n",
      "Unique values in target column (FraudResult) after preprocessing:\n",
      "[0 1]\n"
     ]
    }
   ],
   "source": [
    "print(\"Unique values in target column (FraudResult) after preprocessing:\")\n",
    "print(df[\"FraudResult\"].unique())\n",
    "print(\"Unique values in target column (FraudResult) after preprocessing:\")\n",
    "print(df[\"FraudResult\"].unique())\n"
   ]
  },
  {
   "cell_type": "code",
   "execution_count": 6,
   "metadata": {},
   "outputs": [],
   "source": [
    "# Define the target column and split the data\n",
    "target_column = \"FraudResult\"\n",
    "X_train, X_test, y_train, y_test = split_data(df, target_column)"
   ]
  },
  {
   "cell_type": "code",
   "execution_count": 7,
   "metadata": {},
   "outputs": [
    {
     "name": "stdout",
     "output_type": "stream",
     "text": [
      "Logistic Regression Model Trained.\n"
     ]
    }
   ],
   "source": [
    "# Train Logistic Regression\n",
    "log_model = train_logistic_regression(X_train, y_train)\n",
    "print(\"Logistic Regression Model Trained.\")"
   ]
  }
 ],
 "metadata": {
  "kernelspec": {
   "display_name": "venv",
   "language": "python",
   "name": "python3"
  },
  "language_info": {
   "codemirror_mode": {
    "name": "ipython",
    "version": 3
   },
   "file_extension": ".py",
   "mimetype": "text/x-python",
   "name": "python",
   "nbconvert_exporter": "python",
   "pygments_lexer": "ipython3",
   "version": "3.12.8"
  }
 },
 "nbformat": 4,
 "nbformat_minor": 2
}
